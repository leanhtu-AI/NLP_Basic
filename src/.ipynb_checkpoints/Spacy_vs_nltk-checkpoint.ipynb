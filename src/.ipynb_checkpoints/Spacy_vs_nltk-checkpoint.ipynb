{
 "cells": [
  {
   "cell_type": "code",
   "execution_count": 1,
   "id": "95bcc85e",
   "metadata": {},
   "outputs": [],
   "source": [
    "import spacy"
   ]
  },
  {
   "cell_type": "code",
   "execution_count": 4,
   "id": "85be567a",
   "metadata": {},
   "outputs": [
    {
     "name": "stdout",
     "output_type": "stream",
     "text": [
      "If you look at what you have in life.\n",
      "If you look at what you don't have in life.\n"
     ]
    }
   ],
   "source": [
    "nlp = spacy.load(\"en_core_web_sm\")\n",
    "doc = nlp(\"If you look at what you have in life. If you look at what you don't have in life.\")\n",
    "\n",
    "for sentence in doc.sents:\n",
    "    print(sentence)"
   ]
  },
  {
   "cell_type": "code",
   "execution_count": 8,
   "id": "7f5d0ef9",
   "metadata": {},
   "outputs": [
    {
     "name": "stdout",
     "output_type": "stream",
     "text": [
      "If\n",
      "you\n",
      "look\n",
      "at\n",
      "what\n",
      "you\n",
      "have\n",
      "in\n",
      "life\n",
      ".\n",
      "If\n",
      "you\n",
      "look\n",
      "at\n",
      "what\n",
      "you\n",
      "do\n",
      "n't\n",
      "have\n",
      "in\n",
      "life\n",
      ".\n"
     ]
    }
   ],
   "source": [
    "for word in doc:\n",
    "    print(word)"
   ]
  },
  {
   "cell_type": "code",
   "execution_count": 13,
   "id": "da3c14cf",
   "metadata": {},
   "outputs": [
    {
     "name": "stderr",
     "output_type": "stream",
     "text": [
      "[nltk_data] Downloading package punkt to\n",
      "[nltk_data]     C:\\Users\\FPTSHOP\\AppData\\Roaming\\nltk_data...\n",
      "[nltk_data]   Unzipping tokenizers\\punkt.zip.\n"
     ]
    },
    {
     "data": {
      "text/plain": [
       "True"
      ]
     },
     "execution_count": 13,
     "metadata": {},
     "output_type": "execute_result"
    }
   ],
   "source": [
    "import nltk\n",
    "nltk.download('punkt')"
   ]
  },
  {
   "cell_type": "code",
   "execution_count": 14,
   "id": "3ba9a40d",
   "metadata": {},
   "outputs": [
    {
     "data": {
      "text/plain": [
       "['If you look at what you have in life.',\n",
       " \"If you look at what you don't have in life.\"]"
      ]
     },
     "execution_count": 14,
     "metadata": {},
     "output_type": "execute_result"
    }
   ],
   "source": [
    "from nltk.tokenize import sent_tokenize\n",
    "sent_tokenize(\"If you look at what you have in life. If you look at what you don't have in life.\")\n"
   ]
  },
  {
   "cell_type": "code",
   "execution_count": 18,
   "id": "5feb6e7f",
   "metadata": {},
   "outputs": [
    {
     "data": {
      "text/plain": [
       "['If',\n",
       " 'you',\n",
       " 'look',\n",
       " 'at',\n",
       " 'what',\n",
       " 'you',\n",
       " 'have',\n",
       " 'in',\n",
       " 'life',\n",
       " '.',\n",
       " 'If',\n",
       " 'you',\n",
       " 'look',\n",
       " 'at',\n",
       " 'what',\n",
       " 'you',\n",
       " 'do',\n",
       " \"n't\",\n",
       " 'have',\n",
       " 'in',\n",
       " 'life',\n",
       " '.']"
      ]
     },
     "execution_count": 18,
     "metadata": {},
     "output_type": "execute_result"
    }
   ],
   "source": [
    "from nltk.tokenize import word_tokenize\n",
    "word_tokenize(\"If you look at what you have in life. If you look at what you don't have in life.\")\n"
   ]
  },
  {
   "cell_type": "code",
   "execution_count": null,
   "id": "248037a4",
   "metadata": {},
   "outputs": [],
   "source": []
  }
 ],
 "metadata": {
  "kernelspec": {
   "display_name": "Python 3 (ipykernel)",
   "language": "python",
   "name": "python3"
  },
  "language_info": {
   "codemirror_mode": {
    "name": "ipython",
    "version": 3
   },
   "file_extension": ".py",
   "mimetype": "text/x-python",
   "name": "python",
   "nbconvert_exporter": "python",
   "pygments_lexer": "ipython3",
   "version": "3.11.1"
  }
 },
 "nbformat": 4,
 "nbformat_minor": 5
}
